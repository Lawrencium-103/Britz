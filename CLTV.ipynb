{
 "cells": [
  {
   "cell_type": "markdown",
   "id": "b1ab645d",
   "metadata": {},
   "source": [
    "# Project:  Customer Lifetime Value Analysis using Python by Lawrence OLADEJI"
   ]
  },
  {
   "cell_type": "code",
   "execution_count": null,
   "id": "64fc8188",
   "metadata": {
    "scrolled": false
   },
   "outputs": [],
   "source": [
    "import pandas as pd\n",
    "import numpy as np\n",
    "import matplotlib as plt\n",
    "import plotly.graph_objs as go\n",
    "import plotly.express as px\n",
    "import plotly.io as pio\n",
    "pio.templates.default = \"plotly_white\"\n",
    "import seaborn as sns\n",
    "data = pd.read_csv(\"C:/Users/u/Desktop/Python Project/acquisition_data/customer_acquisition_data.csv\")"
   ]
  },
  {
   "cell_type": "code",
   "execution_count": null,
   "id": "4beb9f84",
   "metadata": {},
   "outputs": [],
   "source": [
    "data.head()"
   ]
  },
  {
   "cell_type": "code",
   "execution_count": null,
   "id": "9117b8fe",
   "metadata": {
    "scrolled": true
   },
   "outputs": [],
   "source": [
    "data.shape"
   ]
  },
  {
   "cell_type": "code",
   "execution_count": null,
   "id": "a0eda768",
   "metadata": {
    "scrolled": true
   },
   "outputs": [],
   "source": [
    "data.describe()"
   ]
  },
  {
   "cell_type": "markdown",
   "id": "ffb2c930",
   "metadata": {},
   "source": [
    "# Distribution of acquisition cost"
   ]
  },
  {
   "cell_type": "code",
   "execution_count": null,
   "id": "3fb168a1",
   "metadata": {},
   "outputs": [],
   "source": []
  },
  {
   "cell_type": "markdown",
   "id": "584b0c2d",
   "metadata": {},
   "source": [
    "In social media marketing, the distribution of acquisition cost refers to the way in which the cost of acquiring customers is distributed across different channels. These channels include social media, email marketing, paid advertising and referral. The cost of acquiring customers can vary depending on the channel used and the specific marketing strategy employed.\n",
    "The distribution of acquisition cost is important  because helped to determine which channels are most effective at acquiring customers and which ones are not.\n",
    "\n",
    "- Analyzing the distribution of acquisition cost can help you determine which channels are most effective at acquiring customers and which ones are not.\n",
    "- This information can be used to optimize your marketing strategy and allocate your budget more effectively.\n"
   ]
  },
  {
   "cell_type": "code",
   "execution_count": null,
   "id": "5f4793cd",
   "metadata": {
    "scrolled": false
   },
   "outputs": [],
   "source": [
    "fig = px.histogram(data, x=\"cost\", nbins=50, title='Distribution of Acquisition Cost')\n",
    "fig.show()"
   ]
  },
  {
   "cell_type": "markdown",
   "id": "72ad6474",
   "metadata": {},
   "source": [
    "# Distribution of revenue"
   ]
  },
  {
   "cell_type": "markdown",
   "id": "39835931",
   "metadata": {},
   "source": [
    "Analyzing the distribution of revenue in the dataset help to determine which channels are generating the most revenue and which ones are not.\n",
    "- Analyzing the data can help you determine which channels have the highest revenue and which ones have the lowest.\n",
    "- This information can be used to optimize your marketing strategy and allocate your budget more effectively."
   ]
  },
  {
   "cell_type": "code",
   "execution_count": null,
   "id": "2a777f43",
   "metadata": {
    "scrolled": false
   },
   "outputs": [],
   "source": [
    "fig = px.histogram(data, x=\"revenue\", nbins=50, title='Distribution of Revenue',color_discrete_sequence=px.colors.qualitative.Pastel)\n",
    "fig.show()"
   ]
  },
  {
   "cell_type": "code",
   "execution_count": null,
   "id": "af6f0c67",
   "metadata": {
    "scrolled": false
   },
   "outputs": [],
   "source": [
    "cost_by_channel = data.groupby('channel')['cost'].mean().reset_index()\n",
    "fig = px.bar(cost_by_channel, x='channel', y='cost', title='Customer Acquisition Cost by Channel', color_discrete_sequence=px.colors.qualitative.Pastel)\n",
    "fig.show()"
   ]
  },
  {
   "cell_type": "markdown",
   "id": "c80e6325",
   "metadata": {},
   "source": [
    "**From the analysis, paid advertisement is the most expensive channel and email marketing is the least expensive channel. Now, it is easier to vizulaize which channels are most and least effective at converting customers."
   ]
  },
  {
   "cell_type": "markdown",
   "id": "39a0b09c",
   "metadata": {},
   "source": [
    "# conversion_by_channel"
   ]
  },
  {
   "cell_type": "code",
   "execution_count": null,
   "id": "427a059e",
   "metadata": {
    "scrolled": false
   },
   "outputs": [],
   "source": [
    "conversion_by_channel = data.groupby('channel')['conversion_rate'].mean().reset_index()\n",
    "\n",
    "fig = px.bar(conversion_by_channel, x='channel', \n",
    "             y='conversion_rate', \n",
    "             title='Conversion Rate by Channel', color_discrete_sequence=px.colors.qualitative.Pastel)\n",
    "fig.show()"
   ]
  },
  {
   "cell_type": "markdown",
   "id": "da554f48",
   "metadata": {},
   "source": [
    "Social media is the most effective channel for converting customers, while paid advertising is the least effective."
   ]
  },
  {
   "cell_type": "markdown",
   "id": "e22d49b0",
   "metadata": {},
   "source": [
    "# Revenue by Channel"
   ]
  },
  {
   "cell_type": "code",
   "execution_count": null,
   "id": "0c70318c",
   "metadata": {
    "scrolled": false
   },
   "outputs": [],
   "source": [
    "revenue_by_channel = data.groupby('channel')['revenue'].sum().reset_index()\n",
    "\n",
    "fig = px.pie(revenue_by_channel, \n",
    "             values='revenue', \n",
    "             names='channel', \n",
    "             title='Total Revenue by Channel', \n",
    "             hole=0.7, color_discrete_sequence=px.colors.qualitative.Pastel)\n",
    "\n",
    "fig.show()"
   ]
  },
  {
   "cell_type": "markdown",
   "id": "87b2aa6a",
   "metadata": {},
   "source": [
    "# Return on Investment (ROI) by Channel"
   ]
  },
  {
   "cell_type": "code",
   "execution_count": null,
   "id": "e51ea828",
   "metadata": {
    "scrolled": false
   },
   "outputs": [],
   "source": [
    "data['roi'] = data['revenue'] / data['cost']\n",
    "roi_by_channel = data.groupby('channel')['roi'].mean().reset_index()\n",
    "\n",
    "fig = px.bar(roi_by_channel, \n",
    "             x='channel', \n",
    "             y='roi', title='Return on Investment (ROI) by Channel', color_discrete_sequence=px.colors.qualitative.Pastel)\n",
    "fig.show()"
   ]
  },
  {
   "cell_type": "markdown",
   "id": "fa2ebb8f",
   "metadata": {},
   "source": [
    "# Estimation of Customer Lifetime Value (CLTV)"
   ]
  },
  {
   "cell_type": "markdown",
   "id": "909b6f49",
   "metadata": {},
   "source": [
    "CLTV = (revenue – cost) * conversion_rate / cost"
   ]
  },
  {
   "cell_type": "code",
   "execution_count": null,
   "id": "dfb540bb",
   "metadata": {},
   "outputs": [],
   "source": [
    "data['cltv'] = (data['revenue'] - data['cost']) * data['conversion_rate'] / data['cost']\n",
    "\n",
    "channel_cltv = data.groupby('channel')['cltv'].mean().reset_index()\n",
    "\n",
    "fig = px.bar(channel_cltv, x='channel', y='cltv', color='channel',\n",
    "             title='Customer Lifetime Value by Channel')\n",
    "\n",
    "fig.update_xaxes(title='Channel')\n",
    "fig.update_yaxes(title='CLTV')\n",
    "\n",
    "fig.show()"
   ]
  },
  {
   "cell_type": "code",
   "execution_count": null,
   "id": "0262e21c",
   "metadata": {
    "scrolled": true
   },
   "outputs": [],
   "source": [
    "subset = data.loc[data['channel'].isin(['social media', 'referral'])]\n",
    "\n",
    "fig = px.box(subset, x='channel', y='cltv', title='CLTV Distribution by Channel')\n",
    "\n",
    "fig.update_xaxes(title='Marketing Channel')\n",
    "fig.update_yaxes(title='CLTV')\n",
    "fig.update_layout(legend_title='Marketing Channel')\n",
    "fig.show()"
   ]
  },
  {
   "cell_type": "markdown",
   "id": "67cdd002",
   "metadata": {},
   "source": [
    "# Here is a summary of the Project:"
   ]
  },
  {
   "cell_type": "markdown",
   "id": "873c3458",
   "metadata": {},
   "source": [
    "* Email marketing is the most profitable channel in terms of generating revenue.\n",
    "* The ROI from email marketing is way higher than all other channels, while the ROI from paid advertising is the lowest.\n",
    "* The customer lifetime value from Social Media and the referral channels is the highest.\n",
    "* There’s not much difference between cltv of social mdeia and referal channel, but the Customer Lifetime Value from the Social Media channel is slightly better than the referral channel."
   ]
  },
  {
   "cell_type": "markdown",
   "id": "c9629e01",
   "metadata": {},
   "source": [
    "Customer lifetime value (CLTV) analysis was used to estimate the total value of customers of this business over the lifetime of their relationship.\n",
    "\n",
    "-- It helps companies determine how much to invest in customer acquisition and retention.\n",
    "\n",
    "-- It helps companies identify the most valuable customers to prioritize for retention efforts.\n",
    "\n",
    "If you like this project on Customer Lifetime Value Analysis using Python. Feel free to reach out to me on oladeji.lawrence@gmail.com"
   ]
  },
  {
   "cell_type": "code",
   "execution_count": null,
   "id": "d996a679",
   "metadata": {},
   "outputs": [],
   "source": []
  }
 ],
 "metadata": {
  "kernelspec": {
   "display_name": "Python 3 (ipykernel)",
   "language": "python",
   "name": "python3"
  },
  "language_info": {
   "codemirror_mode": {
    "name": "ipython",
    "version": 3
   },
   "file_extension": ".py",
   "mimetype": "text/x-python",
   "name": "python",
   "nbconvert_exporter": "python",
   "pygments_lexer": "ipython3",
   "version": "3.9.16"
  }
 },
 "nbformat": 4,
 "nbformat_minor": 5
}
